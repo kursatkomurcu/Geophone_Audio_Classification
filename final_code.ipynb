{
 "cells": [
  {
   "cell_type": "code",
   "execution_count": 84,
   "metadata": {},
   "outputs": [],
   "source": [
    "import os\n",
    "from matplotlib import pyplot as plt\n",
    "import tensorflow as tf \n",
    "import tensorflow_io as tfio\n",
    "import numpy as np\n",
    "import time\n",
    "import soundfile"
   ]
  },
  {
   "cell_type": "code",
   "execution_count": 85,
   "metadata": {},
   "outputs": [],
   "source": [
    "wav, sample_rate = soundfile.read('/media/kursat/Data/projects/Tansel Bey/tflite_files/signal_TEST/shovel/4.5Hz-35.wav') #file path\n",
    "new_file_name = 'shovel-4.5Hz-35.wav'\n",
    "new_folder = '/media/kursat/Data/projects/Tansel Bey/tflite_files/signal_TEST/deneme'\n",
    "os.chdir(new_folder)\n",
    "soundfile.write(new_file_name, wav, sample_rate, subtype='PCM_16')#save as PCM 16 for tensorflow.audio.decode.wav\n",
    "os.chdir('/media/kursat/Data/projects/Tansel Bey/tflite_files') #code file's path\n"
   ]
  },
  {
   "cell_type": "code",
   "execution_count": 86,
   "metadata": {},
   "outputs": [],
   "source": [
    "def load_wav(filename):\n",
    "    file_contents = tf.io.read_file(filename)\n",
    "    wav, sample_rate = tf.audio.decode_wav(file_contents, desired_channels=1)\n",
    "    wav = tf.squeeze(wav, axis=1)\n",
    "    sample_rate = tf.cast(sample_rate, dtype=tf.int64)\n",
    "    wav = tfio.audio.resample(wav, rate_in=sample_rate, rate_out=16000)\n",
    "    return wav"
   ]
  },
  {
   "cell_type": "code",
   "execution_count": 87,
   "metadata": {},
   "outputs": [],
   "source": [
    "#load tflite model\n",
    "interpreter = tf.lite.Interpreter(model_path = '/media/kursat/Data/projects/Tansel Bey/tflite_files/new_model.tflite')\n",
    "interpreter.allocate_tensors()"
   ]
  },
  {
   "cell_type": "code",
   "execution_count": 88,
   "metadata": {},
   "outputs": [
    {
     "name": "stdout",
     "output_type": "stream",
     "text": [
      "[  1 100   1]\n"
     ]
    }
   ],
   "source": [
    "input_details = interpreter.get_input_details()\n",
    "output_details = interpreter.get_output_details()\n",
    "\n",
    "input_shape = input_details[0]['shape']\n",
    "print(input_shape) #input shape 1, 100, 1"
   ]
  },
  {
   "cell_type": "code",
   "execution_count": 89,
   "metadata": {},
   "outputs": [
    {
     "name": "stdout",
     "output_type": "stream",
     "text": [
      "/media/kursat/Data/projects/Tansel Bey/tflite_files/signal_TEST/deneme/shovel-4.5Hz-35.wav\n",
      "<class 'tensorflow.python.framework.ops.EagerTensor'>\n"
     ]
    }
   ],
   "source": [
    "yeni_dosya_yolu = new_folder + '/' + new_file_name\n",
    "print(yeni_dosya_yolu)\n",
    "#Sound files should be PCM 16 format and we should take first 100 steps of fft output\n",
    "wav = load_wav(yeni_dosya_yolu)#Read PCM 16 sound file\n",
    "wav = tf.compat.v1.to_complex64(wav) #converted complex64 format for fft\n",
    "spectrogram = tf.signal.fft(wav) #fft\n",
    "spectrogram = tf.abs(spectrogram)\n",
    "spectrogram = tf.expand_dims(spectrogram, axis=1) #fft\n",
    "spectrogram = spectrogram[0:100, :] #First 100 steps was taken because there are differeces between classes in first 100 steps\n",
    "print(type(spectrogram))\n",
    "spectrogram = np.expand_dims(spectrogram, axis=0)#Using np.expand_dims function for using set_tensor function\n",
    "input_data = spectrogram"
   ]
  },
  {
   "cell_type": "code",
   "execution_count": 90,
   "metadata": {},
   "outputs": [],
   "source": [
    "interpreter.set_tensor(input_details[0]['index'], input_data)"
   ]
  },
  {
   "cell_type": "code",
   "execution_count": 91,
   "metadata": {},
   "outputs": [
    {
     "name": "stdout",
     "output_type": "stream",
     "text": [
      "Total prediction time for tflite model is:  0.00039124488830566406\n"
     ]
    }
   ],
   "source": [
    "time_before= time.time()\n",
    "interpreter.invoke()\n",
    "time_after = time.time()\n",
    "total_tflite_time = time_after - time_before\n",
    "print(\"Total prediction time for tflite model is: \", total_tflite_time)"
   ]
  },
  {
   "cell_type": "code",
   "execution_count": 92,
   "metadata": {},
   "outputs": [
    {
     "name": "stdout",
     "output_type": "stream",
     "text": [
      "The prediction is:  [[9.9867672e-01 1.3232960e-03 3.5689052e-14]] 0:Shovel, 1:Pickaxe, 2:Walk\n",
      "Prediction:  0  Probability:  0.9986767\n"
     ]
    }
   ],
   "source": [
    "output_data_tflite = interpreter.get_tensor(output_details[0]['index']) #Predicted 0:Shovel, 1:Pickaxe, 2:Walk \n",
    "print(\"The prediction is: \", output_data_tflite, \"0:Shovel, 1:Pickaxe, 2:Walk\")\n",
    "output_data_tflite = output_data_tflite.flatten()\n",
    "print(\"Prediction: \", np.argmax(output_data_tflite), ' Probability: ', max(output_data_tflite)) #Index was taken that has max values and probability"
   ]
  }
 ],
 "metadata": {
  "kernelspec": {
   "display_name": "Python 3.8.10 ('platform_env')",
   "language": "python",
   "name": "python3"
  },
  "language_info": {
   "codemirror_mode": {
    "name": "ipython",
    "version": 3
   },
   "file_extension": ".py",
   "mimetype": "text/x-python",
   "name": "python",
   "nbconvert_exporter": "python",
   "pygments_lexer": "ipython3",
   "version": "3.8.10"
  },
  "orig_nbformat": 4,
  "vscode": {
   "interpreter": {
    "hash": "b5f0eca90f14e587aff3f439f8fe68b6b57e0a2ea2f274f0c3fef1092e469b64"
   }
  }
 },
 "nbformat": 4,
 "nbformat_minor": 2
}
